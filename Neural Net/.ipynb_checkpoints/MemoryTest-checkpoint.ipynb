{
 "cells": [
  {
   "cell_type": "code",
   "execution_count": 3,
   "id": "f2da26bc-b5d1-44a3-a4f9-df13eb523bb0",
   "metadata": {},
   "outputs": [],
   "source": [
    "import numpy as np\n",
    "import matplotlib.pyplot as plt\n",
    "import ipywidgets as widgets\n",
    "from IPython.display import display, clear_output\n",
    "import random"
   ]
  },
  {
   "cell_type": "code",
   "execution_count": 5,
   "id": "b0527a30-9927-4b06-b312-f48da097a591",
   "metadata": {},
   "outputs": [],
   "source": [
    "class MemoryNet:\n",
    "    def __init__(self, size):\n",
    "        plt.close('all')\n",
    "        \n",
    "        self.size = size\n",
    "        self.start = np.full((size, size), -1)\n",
    "        self.fig, self.ax = plt.subplots(figsize=(5, 5))\n",
    "        self.out = widgets.Output()\n",
    "        self.button = widgets.Button(description=\"Run Recognition\")\n",
    "        self.button.on_click(lambda b: self.recall(6))\n",
    "        #self.button.on_click(self.show_array)\n",
    "\n",
    "        A_mem = np.loadtxt(\"memory_pattern_A.csv\", delimiter=\",\", dtype=int)\n",
    "        B_mem = np.loadtxt(\"memory_pattern_B.csv\", delimiter=\",\", dtype=int)\n",
    "        C_mem = np.loadtxt(\"memory_pattern_C.csv\", delimiter=\",\", dtype=int)\n",
    "        A = A_mem.flatten()\n",
    "        B = B_mem.flatten()\n",
    "        C = C_mem.flatten()\n",
    "\n",
    "        # Compute interaction matrix using Hebbian rule (sum of outer products)\n",
    "        W = np.outer(A, A) + np.outer(B, B) + np.outer(C, C)\n",
    "        np.fill_diagonal(W, 0)  # no self-connections\n",
    "\n",
    "        # Save for use in energy calculation\n",
    "        self.interaction = W\n",
    "        \n",
    "        # Drawing state\n",
    "        self.is_drawing = False\n",
    "        self.last_cell = None  # To avoid toggling the same cell multiple times per drag\n",
    "\n",
    "        # Connect events\n",
    "        self.fig.canvas.mpl_connect('button_press_event', self.on_press)\n",
    "        self.fig.canvas.mpl_connect('motion_notify_event', self.on_motion)\n",
    "        self.fig.canvas.mpl_connect('button_release_event', self.on_release)\n",
    "\n",
    "        self.update_plot()\n",
    "\n",
    "    def on_press(self, event):\n",
    "        if event.inaxes == self.ax:\n",
    "            self.is_drawing = True\n",
    "            self.toggle_or_draw(event, toggle=True)\n",
    "\n",
    "    def on_motion(self, event):\n",
    "        if self.is_drawing and event.inaxes == self.ax:\n",
    "            self.toggle_or_draw(event, toggle=False)\n",
    "\n",
    "    def on_release(self, event):\n",
    "        self.is_drawing = False\n",
    "        self.last_cell = None\n",
    "\n",
    "    def toggle_or_draw(self, event, toggle):\n",
    "        x = int(round(event.xdata))\n",
    "        y = int(round(event.ydata))\n",
    "        if 0 <= x < self.size and 0 <= y < self.size:\n",
    "            i, j = self.size - 1 - y, x\n",
    "            cell = (i, j)\n",
    "            if toggle:\n",
    "                # Click toggles between 1 and -1\n",
    "                self.start[i, j] = -1 if self.start[i, j] == 1 else 1\n",
    "                self.update_plot()\n",
    "            else:\n",
    "                # Drag sets to 1 (only if it's not already and not repeated)\n",
    "                if cell != self.last_cell and self.start[i, j] != 1:\n",
    "                    self.start[i, j] = 1\n",
    "                    self.update_plot()\n",
    "                    self.last_cell = cell\n",
    "\n",
    "    def update_plot(self):\n",
    "        self.ax.clear()\n",
    "        y, x = np.where(self.start == 1)\n",
    "        self.ax.scatter(x, self.size - 1 - y, color='black', marker='o')\n",
    "\n",
    "        self.ax.set_xlim(-0.5, self.size - 0.5)\n",
    "        self.ax.set_ylim(-0.5, self.size - 0.5)\n",
    "        self.ax.set_xticks([])\n",
    "        self.ax.set_yticks([])\n",
    "        self.ax.set_aspect('equal')\n",
    "        for spine in self.ax.spines.values():\n",
    "            spine.set_visible(False)\n",
    "        self.ax.grid(True)\n",
    "        self.fig.canvas.draw_idle()\n",
    "\n",
    "    def show_array(self, _=None):\n",
    "        with self.out:\n",
    "            clear_output(wait=True)\n",
    "            display(self.button)\n",
    "            print(\"Memory Array (1s = dots, -1s = empty):\\n\")\n",
    "            print(self.start)\n",
    "            \n",
    "    def EnergyValue(self, matrix):\n",
    "\n",
    "        state = matrix.flatten()\n",
    "        return -(1/3) * np.dot(state, np.dot(self.interaction, state))\n",
    "\n",
    "        \n",
    "    def recall(self, iterations):\n",
    "        state = self.start.flatten()\n",
    "        for _ in range(iterations):\n",
    "            indices = list(range(len(state)))\n",
    "            random.shuffle(indices)\n",
    "            for idx in indices:\n",
    "                delta_E = 2 * state[idx] * np.dot(self.interaction[idx], state)\n",
    "                if delta_E < 0:\n",
    "                    state[idx] *= -1\n",
    "        self.start = state.reshape((self.size, self.size))\n",
    "        self.update_plot()\n",
    "                    \n",
    "    def interface(self):\n",
    "        layout = widgets.VBox([\n",
    "            self.button,  # Top button\n",
    "            self.out  # And any output below that\n",
    "        ])\n",
    "        display(layout)"
   ]
  },
  {
   "cell_type": "code",
   "execution_count": 14,
   "id": "87103e4c-75d7-4f92-9065-3c8ff26bd786",
   "metadata": {},
   "outputs": [
    {
     "data": {
      "application/vnd.jupyter.widget-view+json": {
       "model_id": "ed21183a56ca42608b6d57219e94c517",
       "version_major": 2,
       "version_minor": 0
      },
      "text/plain": [
       "VBox(children=(Button(description='Run Recognition', style=ButtonStyle()), Output()))"
      ]
     },
     "metadata": {},
     "output_type": "display_data"
    },
    {
     "data": {
      "application/vnd.jupyter.widget-view+json": {
       "model_id": "4756557dbdd74a50a4c810c92396899e",
       "version_major": 2,
       "version_minor": 0
      },
      "image/png": "[encoded data removed]",
      "text/html": [
       "\n",
       "            <div style=\"display: inline-block;\">\n",
       "                <div class=\"jupyter-widgets widget-label\" style=\"text-align: center;\">\n",
       "                    Figure\n",
       "                </div>\n",
       "                <img src='data:image/png;base64,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' width=500.0/>\n",
       "            </div>\n",
       "        "
      ],
      "text/plain": [
       "Canvas(toolbar=Toolbar(toolitems=[('Home', 'Reset original view', 'home', 'home'), ('Back', 'Back to previous …"
      ]
     },
     "metadata": {},
     "output_type": "display_data"
    }
   ],
   "source": [
    "%matplotlib widget\n",
    "test = MemoryNet(10)\n",
    "test.interface()"
   ]
  },
  {
   "cell_type": "code",
   "execution_count": 15,
   "id": "dbe6b088-d34a-4732-9800-f04b7cb2aee1",
   "metadata": {},
   "outputs": [
    {
     "name": "stdout",
     "output_type": "stream",
     "text": [
      "[1, 2, 3]\n"
     ]
    }
   ],
   "source": [
    "choice = [i for i in range(1,4)]\n",
    "print(choice)"
   ]
  },
  {
   "cell_type": "code",
   "execution_count": null,
   "id": "fc9b3def-2bcd-4720-808f-aa43a3a8f8dc",
   "metadata": {},
   "outputs": [],
   "source": []
  }
 ],
 "metadata": {
  "kernelspec": {
   "display_name": "Python 3 (ipykernel)",
   "language": "python",
   "name": "python3"
  },
  "language_info": {
   "codemirror_mode": {
    "name": "ipython",
    "version": 3
   },
   "file_extension": ".py",
   "mimetype": "text/x-python",
   "name": "python",
   "nbconvert_exporter": "python",
   "pygments_lexer": "ipython3",
   "version": "3.12.3"
  }
 },
 "nbformat": 4,
 "nbformat_minor": 5
}

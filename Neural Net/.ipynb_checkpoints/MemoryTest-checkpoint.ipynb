{
 "cells": [
  {
   "cell_type": "code",
   "execution_count": 1,
   "id": "f2da26bc-b5d1-44a3-a4f9-df13eb523bb0",
   "metadata": {},
   "outputs": [],
   "source": [
    "import numpy as np\n",
    "import matplotlib.pyplot as plt\n",
    "import ipywidgets as widgets\n",
    "from IPython.display import display, clear_output\n",
    "import random"
   ]
  },
  {
   "cell_type": "code",
   "execution_count": 2,
   "id": "b0527a30-9927-4b06-b312-f48da097a591",
   "metadata": {},
   "outputs": [],
   "source": [
    "class MemoryNet:\n",
    "    def __init__(self, size):\n",
    "        plt.close('all')\n",
    "        \n",
    "        self.size = size\n",
    "        self.start = np.full((size, size), -1)\n",
    "        self.fig, self.ax = plt.subplots(figsize=(5, 5))\n",
    "        self.out = widgets.Output()\n",
    "        self.button = widgets.Button(description=\"Run Recognition\")\n",
    "        self.button.on_click(lambda b: self.recall(6))\n",
    "        #self.button.on_click(self.show_array)\n",
    "\n",
    "        A_mem = np.loadtxt(\"memory_pattern_A.csv\", delimiter=\",\", dtype=int)\n",
    "        B_mem = np.loadtxt(\"memory_pattern_B.csv\", delimiter=\",\", dtype=int)\n",
    "        C_mem = np.loadtxt(\"memory_pattern_C.csv\", delimiter=\",\", dtype=int)\n",
    "        A = A_mem.flatten()\n",
    "        B = B_mem.flatten()\n",
    "        C = C_mem.flatten()\n",
    "\n",
    "        # Compute interaction matrix using Hebbian rule (sum of outer products)\n",
    "        W = np.outer(A, A) + np.outer(B, B) + np.outer(C, C)\n",
    "        np.fill_diagonal(W, 0)  # no self-connections\n",
    "\n",
    "        # Save for use in energy calculation\n",
    "        self.interaction = W\n",
    "        \n",
    "        # Drawing state\n",
    "        self.is_drawing = False\n",
    "        self.last_cell = None  # To avoid toggling the same cell multiple times per drag\n",
    "\n",
    "        # Connect events\n",
    "        self.fig.canvas.mpl_connect('button_press_event', self.on_press)\n",
    "        self.fig.canvas.mpl_connect('motion_notify_event', self.on_motion)\n",
    "        self.fig.canvas.mpl_connect('button_release_event', self.on_release)\n",
    "\n",
    "        self.update_plot()\n",
    "\n",
    "    def on_press(self, event):\n",
    "        if event.inaxes == self.ax:\n",
    "            self.is_drawing = True\n",
    "            self.toggle_or_draw(event, toggle=True)\n",
    "\n",
    "    def on_motion(self, event):\n",
    "        if self.is_drawing and event.inaxes == self.ax:\n",
    "            self.toggle_or_draw(event, toggle=False)\n",
    "\n",
    "    def on_release(self, event):\n",
    "        self.is_drawing = False\n",
    "        self.last_cell = None\n",
    "\n",
    "    def toggle_or_draw(self, event, toggle):\n",
    "        x = int(round(event.xdata))\n",
    "        y = int(round(event.ydata))\n",
    "        if 0 <= x < self.size and 0 <= y < self.size:\n",
    "            i, j = self.size - 1 - y, x\n",
    "            cell = (i, j)\n",
    "            if toggle:\n",
    "                # Click toggles between 1 and -1\n",
    "                self.start[i, j] = -1 if self.start[i, j] == 1 else 1\n",
    "                self.update_plot()\n",
    "            else:\n",
    "                # Drag sets to 1 (only if it's not already and not repeated)\n",
    "                if cell != self.last_cell and self.start[i, j] != 1:\n",
    "                    self.start[i, j] = 1\n",
    "                    self.update_plot()\n",
    "                    self.last_cell = cell\n",
    "\n",
    "    def update_plot(self):\n",
    "        self.ax.clear()\n",
    "        y, x = np.where(self.start == 1)\n",
    "        self.ax.scatter(x, self.size - 1 - y, color='black', marker='o')\n",
    "\n",
    "        self.ax.set_xlim(-0.5, self.size - 0.5)\n",
    "        self.ax.set_ylim(-0.5, self.size - 0.5)\n",
    "        self.ax.set_xticks([])\n",
    "        self.ax.set_yticks([])\n",
    "        self.ax.set_aspect('equal')\n",
    "        for spine in self.ax.spines.values():\n",
    "            spine.set_visible(False)\n",
    "        self.ax.grid(True)\n",
    "        self.fig.canvas.draw_idle()\n",
    "\n",
    "    def show_array(self, _=None):\n",
    "        with self.out:\n",
    "            clear_output(wait=True)\n",
    "            display(self.button)\n",
    "            print(\"Memory Array (1s = dots, -1s = empty):\\n\")\n",
    "            print(self.start)\n",
    "            \n",
    "    def EnergyValue(self, matrix):\n",
    "\n",
    "        state = matrix.flatten()\n",
    "        return -(2/3) * np.dot(state, np.dot(self.interaction, state))\n",
    "\n",
    "        \n",
    "    def recall(self, iterations):\n",
    "        state = self.start.flatten()\n",
    "        for _ in range(iterations):\n",
    "            indices = list(range(len(state)))\n",
    "            random.shuffle(indices)\n",
    "            for idx in indices:\n",
    "                delta_E = (2/3) * state[idx] * np.dot(self.interaction[idx], state)\n",
    "                if delta_E < 0:\n",
    "                    state[idx] *= -1\n",
    "        self.start = state.reshape((self.size, self.size))\n",
    "        self.update_plot()\n",
    "                    \n",
    "    def interface(self):\n",
    "        layout = widgets.VBox([\n",
    "            self.button,  # Top button\n",
    "            self.out  # And any output below that\n",
    "        ])\n",
    "        display(layout)"
   ]
  },
  {
   "cell_type": "code",
   "execution_count": 3,
   "id": "87103e4c-75d7-4f92-9065-3c8ff26bd786",
   "metadata": {},
   "outputs": [
    {
     "data": {
      "application/vnd.jupyter.widget-view+json": {
       "model_id": "8045bb327bf2468584e216ab22dc2df2",
       "version_major": 2,
       "version_minor": 0
      },
      "text/plain": [
       "VBox(children=(Button(description='Run Recognition', style=ButtonStyle()), Output()))"
      ]
     },
     "metadata": {},
     "output_type": "display_data"
    },
    {
     "data": {
      "application/vnd.jupyter.widget-view+json": {
       "model_id": "b8c50409fe7c4f55a99e074d239a21ce",
       "version_major": 2,
       "version_minor": 0
      },
      "image/png": "[encoded data removed]",
      "text/html": [
       "\n",
       "            <div style=\"display: inline-block;\">\n",
       "                <div class=\"jupyter-widgets widget-label\" style=\"text-align: center;\">\n",
       "                    Figure\n",
       "                </div>\n",
       "                <img src='data:image/png;base64,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' width=500.0/>\n",
       "            </div>\n",
       "        "
      ],
      "text/plain": [
       "Canvas(toolbar=Toolbar(toolitems=[('Home', 'Reset original view', 'home', 'home'), ('Back', 'Back to previous …"
      ]
     },
     "metadata": {},
     "output_type": "display_data"
    }
   ],
   "source": [
    "%matplotlib widget\n",
    "test = MemoryNet(10)\n",
    "test.start = np.loadtxt(\"FalseMinPatternStart2.csv\", delimiter=\",\", dtype=int)\n",
    "test.update_plot()\n",
    "test.interface()"
   ]
  },
  {
   "cell_type": "code",
   "execution_count": 50,
   "id": "dbe6b088-d34a-4732-9800-f04b7cb2aee1",
   "metadata": {},
   "outputs": [],
   "source": [
    "np.savetxt(\"FalseMinPatternStart2csv\", test.start, fmt=\"%d\", delimiter=\",\")"
   ]
  },
  {
   "cell_type": "code",
   "execution_count": 26,
   "id": "fc9b3def-2bcd-4720-808f-aa43a3a8f8dc",
   "metadata": {},
   "outputs": [],
   "source": [
    "np.savetxt(\"FalseMinPatternEnd_T0.csv\", test.start, fmt=\"%d\", delimiter=\",\")"
   ]
  },
  {
   "cell_type": "code",
   "execution_count": null,
   "id": "f14b61b2-db0f-4bca-a765-ebc3d3dfaf2c",
   "metadata": {},
   "outputs": [],
   "source": []
  }
 ],
 "metadata": {
  "kernelspec": {
   "display_name": "Python 3 (ipykernel)",
   "language": "python",
   "name": "python3"
  },
  "language_info": {
   "codemirror_mode": {
    "name": "ipython",
    "version": 3
   },
   "file_extension": ".py",
   "mimetype": "text/x-python",
   "name": "python",
   "nbconvert_exporter": "python",
   "pygments_lexer": "ipython3",
   "version": "3.12.3"
  }
 },
 "nbformat": 4,
 "nbformat_minor": 5
}

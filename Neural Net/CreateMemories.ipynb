{
 "cells": [
  {
   "cell_type": "code",
   "execution_count": 3,
   "id": "4a15f0b2-9912-42fa-a5f4-f550c001f3d6",
   "metadata": {},
   "outputs": [],
   "source": [
    "import numpy as np\n",
    "import matplotlib.pyplot as plt\n",
    "import ipywidgets as widgets\n",
    "from IPython.display import display, clear_output\n",
    "import random"
   ]
  },
  {
   "cell_type": "code",
   "execution_count": 4,
   "id": "f28f70f0-bcc4-4fd3-aa6c-5e69d5d2acb5",
   "metadata": {},
   "outputs": [],
   "source": [
    "class CreateMemoryNet:\n",
    "    def __init__(self, size):\n",
    "        plt.close('all')\n",
    "        \n",
    "        self.size = size\n",
    "        self.start = np.full((size, size), -1)\n",
    "        self.fig, self.ax = plt.subplots(figsize=(5, 5))\n",
    "        self.out = widgets.Output()\n",
    "        self.button = widgets.Button(description=\"Show Memory Array\")\n",
    "        #self.button.on_click(self.check_letter)\n",
    "        self.button.on_click(self.show_array)\n",
    "        \n",
    "        # Drawing state\n",
    "        self.is_drawing = False\n",
    "        self.last_cell = None  # To avoid toggling the same cell multiple times per drag\n",
    "\n",
    "        # Connect events\n",
    "        self.fig.canvas.mpl_connect('button_press_event', self.on_press)\n",
    "        self.fig.canvas.mpl_connect('motion_notify_event', self.on_motion)\n",
    "        self.fig.canvas.mpl_connect('button_release_event', self.on_release)\n",
    "\n",
    "        self.update_plot()\n",
    "\n",
    "    def on_press(self, event):\n",
    "        if event.inaxes == self.ax:\n",
    "            self.is_drawing = True\n",
    "            self.toggle_or_draw(event, toggle=True)\n",
    "\n",
    "    def on_motion(self, event):\n",
    "        if self.is_drawing and event.inaxes == self.ax:\n",
    "            self.toggle_or_draw(event, toggle=False)\n",
    "\n",
    "    def on_release(self, event):\n",
    "        self.is_drawing = False\n",
    "        self.last_cell = None\n",
    "\n",
    "    def toggle_or_draw(self, event, toggle):\n",
    "        x = int(round(event.xdata))\n",
    "        y = int(round(event.ydata))\n",
    "        if 0 <= x < self.size and 0 <= y < self.size:\n",
    "            i, j = self.size - 1 - y, x\n",
    "            cell = (i, j)\n",
    "            if toggle:\n",
    "                # Click toggles between 1 and -1\n",
    "                self.start[i, j] = -1 if self.start[i, j] == 1 else 1\n",
    "                self.update_plot()\n",
    "            else:\n",
    "                # Drag sets to 1 (only if it's not already and not repeated)\n",
    "                if cell != self.last_cell and self.start[i, j] != 1:\n",
    "                    self.start[i, j] = 1\n",
    "                    self.update_plot()\n",
    "                    self.last_cell = cell\n",
    "\n",
    "    def update_plot(self):\n",
    "        self.ax.clear()\n",
    "        y, x = np.where(self.start == 1)\n",
    "        self.ax.scatter(x, self.size - 1 - y, color='black', marker='o')\n",
    "\n",
    "        self.ax.set_xlim(-0.5, self.size - 0.5)\n",
    "        self.ax.set_ylim(-0.5, self.size - 0.5)\n",
    "        self.ax.set_xticks([])\n",
    "        self.ax.set_yticks([])\n",
    "        self.ax.set_aspect('equal')\n",
    "        for spine in self.ax.spines.values():\n",
    "            spine.set_visible(False)\n",
    "        self.ax.grid(True)\n",
    "        self.fig.canvas.draw_idle()\n",
    "\n",
    "    def show_array(self, _=None):\n",
    "        with self.out:\n",
    "            clear_output(wait=True)\n",
    "            display(self.button)\n",
    "            print(\"Memory Array (1s = dots, -1s = empty):\\n\")\n",
    "            print(self.start)\n",
    "    def interface(self):\n",
    "        layout = widgets.VBox([\n",
    "            self.button,  # Top button\n",
    "            self.out  # And any output below that\n",
    "        ])\n",
    "        display(layout)\n"
   ]
  },
  {
   "cell_type": "code",
   "execution_count": null,
   "id": "ec8d1059-1625-42d6-8925-60213e1ff20b",
   "metadata": {},
   "outputs": [],
   "source": []
  },
  {
   "cell_type": "code",
   "execution_count": 21,
   "id": "c1dcc86c-7c62-4506-8a4e-80522f00de77",
   "metadata": {},
   "outputs": [
    {
     "data": {
      "application/vnd.jupyter.widget-view+json": {
       "model_id": "d2ed3ebc15434c549f19610446744fd9",
       "version_major": 2,
       "version_minor": 0
      },
      "text/plain": [
       "VBox(children=(Button(description='Show Memory Array', style=ButtonStyle()), Output()))"
      ]
     },
     "metadata": {},
     "output_type": "display_data"
    },
    {
     "data": {
      "application/vnd.jupyter.widget-view+json": {
       "model_id": "c7fd75f036864032b6f0e7a33f0ad3cb",
       "version_major": 2,
       "version_minor": 0
      },
      "image/png": "[encoded data removed]",
      "text/html": [
       "\n",
       "            <div style=\"display: inline-block;\">\n",
       "                <div class=\"jupyter-widgets widget-label\" style=\"text-align: center;\">\n",
       "                    Figure\n",
       "                </div>\n",
       "                <img src='data:image/png;base64,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' width=500.0/>\n",
       "            </div>\n",
       "        "
      ],
      "text/plain": [
       "Canvas(toolbar=Toolbar(toolitems=[('Home', 'Reset original view', 'home', 'home'), ('Back', 'Back to previous …"
      ]
     },
     "metadata": {},
     "output_type": "display_data"
    }
   ],
   "source": [
    "'''\n",
    "Below prompts you to draw and create new letters for memory in recall program\n",
    "'''\n",
    "%matplotlib widget\n",
    "new = CreateMemoryNet(10)\n",
    "new.interface()\n"
   ]
  },
  {
   "cell_type": "code",
   "execution_count": 22,
   "id": "b5056cd7-0e04-42ad-96b0-b9868eb3857b",
   "metadata": {},
   "outputs": [],
   "source": [
    "np.savetxt(\"memory_pattern_A.csv\", new.start, fmt=\"%d\", delimiter=\",\")"
   ]
  },
  {
   "cell_type": "code",
   "execution_count": null,
   "id": "ebf0fb63-1606-4a21-856a-1a708f8604db",
   "metadata": {},
   "outputs": [],
   "source": []
  }
 ],
 "metadata": {
  "kernelspec": {
   "display_name": "Python 3 (ipykernel)",
   "language": "python",
   "name": "python3"
  },
  "language_info": {
   "codemirror_mode": {
    "name": "ipython",
    "version": 3
   },
   "file_extension": ".py",
   "mimetype": "text/x-python",
   "name": "python",
   "nbconvert_exporter": "python",
   "pygments_lexer": "ipython3",
   "version": "3.12.3"
  }
 },
 "nbformat": 4,
 "nbformat_minor": 5
}
